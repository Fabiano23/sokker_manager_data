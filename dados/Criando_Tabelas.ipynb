{
 "cells": [
  {
   "cell_type": "code",
   "execution_count": 1,
   "metadata": {},
   "outputs": [],
   "source": [
    "import pandas as pd\n",
    "from functions import conecta_ao_db"
   ]
  },
  {
   "cell_type": "code",
   "execution_count": 2,
   "metadata": {},
   "outputs": [],
   "source": [
    "db = conecta_ao_db('dados_sokker.db')\n",
    "curs = db.cursor()"
   ]
  },
  {
   "cell_type": "markdown",
   "metadata": {},
   "source": [
    "# Criando tabelas"
   ]
  },
  {
   "cell_type": "markdown",
   "metadata": {},
   "source": [
    "### Treinadores"
   ]
  },
  {
   "cell_type": "code",
   "execution_count": 3,
   "metadata": {},
   "outputs": [],
   "source": [
    "query = \"\"\"CREATE TABLE IF NOT EXISTS trainers (\n",
    "\n",
    "ID INTEGER, date_extracted TEXT NOT NULL, name TEXT NOT NULL, surname TEXT NOT NULL, \n",
    "\n",
    "countryID INTEGER NOT NULL, age INTEGER NOT NULL, teamID INTEGER NOT NULL, wage INTEGER NOT NULL, \n",
    "\n",
    "signedContract INTEGER NOT NULL, job INTEGER NOT NULL, skillStamina INTEGER NOT NULL, \n",
    "\n",
    "skillPace INTEGER NOT NULL, skillTechnique INTEGER NOT NULL, skillPassing INTEGER NOT NULL, \n",
    "\n",
    "skillKeeper INTEGER NOT NULL, skillDefending INTEGER NOT NULL, \n",
    "\n",
    "skillPlaymaking INTEGER NOT NULL, skillScoring INTEGER NOT NULL, skillCoach INTEGER NOT NULL \n",
    "\n",
    ");\"\"\"\n",
    "\n",
    "# Cria tabela\n",
    "curs.execute(query)\n",
    "\n",
    "# Salva mudanças feitas na base de dados\n",
    "db.commit()"
   ]
  },
  {
   "cell_type": "markdown",
   "metadata": {},
   "source": [
    "### Jogadores"
   ]
  },
  {
   "cell_type": "code",
   "execution_count": 4,
   "metadata": {},
   "outputs": [
    {
     "data": {
      "text/plain": [
       "<sqlite3.Cursor at 0x7f44947558f0>"
      ]
     },
     "execution_count": 4,
     "metadata": {},
     "output_type": "execute_result"
    }
   ],
   "source": [
    "query = \"\"\"CREATE TABLE IF NOT EXISTS players (\n",
    "\n",
    "ID INTEGER, date_extracted TEXT NOT NULL, name TEXT NOT NULL, surname TEXT NOT NULL, \n",
    "\n",
    "countryID INTEGER NOT NULL, age INTEGER NOT NULL, teamID INTEGER NOT NULL, wage FLOAT NOT NULL, \n",
    "\n",
    "height FLOAT NOT NULL, weight FLOAT NOT NULL, BMI FLOAT NOT NULL, youthTeamID INTEGER NOT NULL,\n",
    "\n",
    "value FLOAT NOT NULL, cards INTEGER NOT NULL, goals INTEGER NOT NULL, assists INTEGER NOT NULL, \n",
    "\n",
    "matches INTEGER NOT NULL, ntCards INTEGER NOT NULL, ntGoals INTEGER NOT NULL, ntAssists INTEGER NOT NULL, \n",
    "\n",
    "ntMatches INTEGER NOT NULL, injuryDays INTEGER NOT NULL, national INTEGER NOT NULL,  \n",
    "\n",
    "'transferList' INTEGER NOT NULL, skillForm INTEGER NOT NULL, skillExperience INTEGER NOT NULL, \n",
    "\n",
    "skillStamina INTEGER, skillTeamwork INTEGER NOT NULL, skillDiscipline INTEGER NOT NULL, \n",
    "\n",
    "skillPace INTEGER, skillTechnique INTEGER, skillPassing INTEGER, \n",
    "\n",
    "skillKeeper INTEGER, skillDefending INTEGER, skillPlaymaking INTEGER, skillScoring INTEGER\n",
    "\n",
    ");\"\"\"\n",
    "\n",
    "curs.execute(query)"
   ]
  },
  {
   "cell_type": "markdown",
   "metadata": {},
   "source": [
    "### Transferências"
   ]
  },
  {
   "cell_type": "code",
   "execution_count": 5,
   "metadata": {},
   "outputs": [
    {
     "data": {
      "text/plain": [
       "<sqlite3.Cursor at 0x7f44947558f0>"
      ]
     },
     "execution_count": 5,
     "metadata": {},
     "output_type": "execute_result"
    }
   ],
   "source": [
    "query = \"\"\"CREATE TABLE IF NOT EXISTS transfers (\n",
    "\n",
    "ID INTEGER, sellerTeamID INTEGER NOT NULL, buyerTeamID INTEGER NOT NULL, \n",
    "\n",
    "sellerTeamName TEXT NOT NULL, buyerTeamName\t TEXT NOT NULL, \n",
    "\n",
    "playerID INTEGER NOT NULL, date TEXT NOT NULL, \n",
    "\n",
    "price INTEGER NOT NULL, playerValue INTEGER NOT NULL\n",
    "\n",
    ");\"\"\"\n",
    "\n",
    "curs.execute(query)"
   ]
  },
  {
   "cell_type": "markdown",
   "metadata": {},
   "source": [
    "### Partidas"
   ]
  },
  {
   "cell_type": "code",
   "execution_count": 6,
   "metadata": {},
   "outputs": [
    {
     "data": {
      "text/plain": [
       "<sqlite3.Cursor at 0x7f44947558f0>"
      ]
     },
     "execution_count": 6,
     "metadata": {},
     "output_type": "execute_result"
    }
   ],
   "source": [
    "query = \"\"\"CREATE TABLE IF NOT EXISTS matches (\n",
    "\n",
    "matchID INTEGER, homeTeamID INTEGER NOT NULL, awayTeamID INTEGER NOT NULL,\n",
    "\n",
    "leagueID INTEGER NOT NULL, round INTEGER NOT NULL, season INTEGER NOT NULL, \n",
    "\n",
    "week INTEGER NOT NULL, day INTEGER NOT NULL, dateExpected TEXT, dateStarted TEXT, \n",
    "\n",
    "homeTeamScore INTEGER, awayTeamScore INTEGER, supporters INTEGER NOT NULL, \n",
    "\n",
    "weather INTEGER NOT NULL, isFinished INTEGER NOT NULL\n",
    "\n",
    ");\"\"\"\n",
    "\n",
    "curs.execute(query)"
   ]
  },
  {
   "cell_type": "markdown",
   "metadata": {},
   "source": [
    "### Estatísticas das Partidas"
   ]
  },
  {
   "cell_type": "code",
   "execution_count": 7,
   "metadata": {},
   "outputs": [
    {
     "data": {
      "text/plain": [
       "<sqlite3.Cursor at 0x7f44947558f0>"
      ]
     },
     "execution_count": 7,
     "metadata": {},
     "output_type": "execute_result"
    }
   ],
   "source": [
    "query = \"\"\"CREATE TABLE IF NOT EXISTS matchStats (\n",
    "\n",
    "matchID INTEGER, teamID INTEGER NOT NULL, timeOnHalf INTEGER NOT NULL, \n",
    "\n",
    "timePossession INTEGER NOT NULL, offsides INTEGER NOT NULL, shoots INTEGER NOT NULL, \n",
    "\n",
    "fouls INTEGER NOT NULL, yellowCards INTEGER NOT NULL, redCards INTEGER NOT NULL, tacticName TEXT NOT NULL, \n",
    "\n",
    "ratingScoring INTEGER NOT NULL, ratingPassing INTEGER NOT NULL, ratingDefending INTEGER NOT NULL\n",
    "\n",
    ");\"\"\"\n",
    "\n",
    "curs.execute(query)"
   ]
  },
  {
   "cell_type": "markdown",
   "metadata": {},
   "source": [
    "### Times"
   ]
  },
  {
   "cell_type": "code",
   "execution_count": 8,
   "metadata": {},
   "outputs": [
    {
     "data": {
      "text/plain": [
       "<sqlite3.Cursor at 0x7f44947558f0>"
      ]
     },
     "execution_count": 8,
     "metadata": {},
     "output_type": "execute_result"
    }
   ],
   "source": [
    "query = \"\"\"CREATE TABLE IF NOT EXISTS teams (\n",
    "\n",
    "teamID INTEGER, name TEXT NOT NULL, countryID INTEGER NOT NULL, \n",
    "\n",
    "regionID INTEGER NOT NULL, dateCreated TEXT NOT NULL, rank FLOAT NOT NULL, \n",
    "\n",
    "national INTEGER NOT NULL, arenaName TEXT NOT NULL,\n",
    "\n",
    "money INTEGER, trainingType INTEGER, trainingFormation INTEGER, \n",
    "\n",
    "fanclubCount INTEGER, fanclubMood INTEGER, juniorsMax INTEGER, date_extracted TEXT NOT NULL\n",
    "\n",
    ");\"\"\"\n",
    "\n",
    "curs.execute(query)"
   ]
  },
  {
   "cell_type": "markdown",
   "metadata": {},
   "source": [
    "### Ligas"
   ]
  },
  {
   "cell_type": "code",
   "execution_count": 9,
   "metadata": {},
   "outputs": [
    {
     "data": {
      "text/plain": [
       "<sqlite3.Cursor at 0x7f44947558f0>"
      ]
     },
     "execution_count": 9,
     "metadata": {},
     "output_type": "execute_result"
    }
   ],
   "source": [
    "query = \"\"\"CREATE TABLE IF NOT EXISTS league (\n",
    "\n",
    "leagueID INTEGER, name TEXT NOT NULL,  countryID INTEGER NOT NULL, \n",
    "\n",
    " season INTEGER NOT NULL, type INTEGER NOT NULL, \n",
    "\n",
    "isOfficial INTEGER NOT NULL, isCup INTEGER NOT NULL, division INTEGER NOT NULL\n",
    "\n",
    ");\"\"\"\n",
    "\n",
    "curs.execute(query)"
   ]
  },
  {
   "cell_type": "markdown",
   "metadata": {},
   "source": [
    "### Estatísticas liga"
   ]
  },
  {
   "cell_type": "code",
   "execution_count": 10,
   "metadata": {},
   "outputs": [
    {
     "data": {
      "text/plain": [
       "<sqlite3.Cursor at 0x7f44947558f0>"
      ]
     },
     "execution_count": 10,
     "metadata": {},
     "output_type": "execute_result"
    }
   ],
   "source": [
    "query = \"\"\"CREATE TABLE IF NOT EXISTS leagueStats (\n",
    "\n",
    "leagueID INTEGER, teamID INTEGER NOT NULL, \n",
    "\n",
    "round INTEGER NOT NULL, points INTEGER NOT NULL, wins INTEGER NOT NULL, \n",
    "\n",
    "draws INTEGER NOT NULL, losses INTEGER NOT NULL, goalsScored INTEGER NOT NULL, \n",
    "\n",
    "goalsLost INTEGER NOT NULL, rankTotal INTEGER NOT NULL\n",
    " \n",
    ");\"\"\"\n",
    "\n",
    "curs.execute(query)"
   ]
  },
  {
   "cell_type": "code",
   "execution_count": 11,
   "metadata": {},
   "outputs": [
    {
     "name": "stdout",
     "output_type": "stream",
     "text": [
      "trainers\n",
      "players\n",
      "transfers\n",
      "matches\n",
      "matchStats\n",
      "teams\n",
      "league\n",
      "leagueStats\n"
     ]
    }
   ],
   "source": [
    "res = curs.execute(\"SELECT name FROM sqlite_master WHERE type = 'table';\")\n",
    "for name in res:\n",
    "    print (name[0])"
   ]
  },
  {
   "cell_type": "code",
   "execution_count": 12,
   "metadata": {},
   "outputs": [],
   "source": [
    "# Salvando alterações\n",
    "db.commit()\n",
    "\n",
    "# Fechando conexão com a base de dados\n",
    "db.close()"
   ]
  },
  {
   "cell_type": "code",
   "execution_count": null,
   "metadata": {},
   "outputs": [],
   "source": []
  }
 ],
 "metadata": {
  "kernelspec": {
   "display_name": "Python 3",
   "language": "python",
   "name": "python3"
  },
  "language_info": {
   "codemirror_mode": {
    "name": "ipython",
    "version": 3
   },
   "file_extension": ".py",
   "mimetype": "text/x-python",
   "name": "python",
   "nbconvert_exporter": "python",
   "pygments_lexer": "ipython3",
   "version": "3.8.3"
  }
 },
 "nbformat": 4,
 "nbformat_minor": 4
}
