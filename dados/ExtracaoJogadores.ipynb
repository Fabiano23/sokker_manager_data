{
 "cells": [
  {
   "cell_type": "markdown",
   "metadata": {},
   "source": [
    "## *Rodar notebook toda quinta-feira já que às quintas os atletas têm suas habilidades atualizadas após o treino*"
   ]
  },
  {
   "cell_type": "code",
   "execution_count": 1,
   "metadata": {},
   "outputs": [],
   "source": [
    "import pandas as pd\n",
    "from functions import clube_id_e_sessao, pega_dados, conecta_ao_db\n",
    "from datetime import datetime"
   ]
  },
  {
   "cell_type": "code",
   "execution_count": 2,
   "metadata": {},
   "outputs": [
    {
     "name": "stdout",
     "output_type": "stream",
     "text": [
      "Data: 2022-07-09 12:58:40\n"
     ]
    }
   ],
   "source": [
    "# Mantendo o padrão de como o sokker mostra as datas nos dados que disponibiliza\n",
    "agora= str(datetime.now()).split('.')[0]\n",
    "\n",
    "print(\"Data:\", agora)"
   ]
  },
  {
   "cell_type": "code",
   "execution_count": 3,
   "metadata": {},
   "outputs": [
    {
     "name": "stdout",
     "output_type": "stream",
     "text": [
      "Login: fabin99\n",
      "Password: ········\n",
      "Clube ID: 79085\n"
     ]
    }
   ],
   "source": [
    "sessao, club_id= clube_id_e_sessao()"
   ]
  },
  {
   "cell_type": "markdown",
   "metadata": {},
   "source": [
    "Como meu clube não pode ter valores nulos, os dos outros usuários sim (não tenho acesso a alguns dados de seus jogadores), eu insiro uma cláusula if antes de iniciar a inserção dos dados na base de dados para conferir."
   ]
  },
  {
   "cell_type": "code",
   "execution_count": 4,
   "metadata": {},
   "outputs": [
    {
     "name": "stdout",
     "output_type": "stream",
     "text": [
      "Há valores nulos ou duplicados. Confira os dados e tente novamente.\n"
     ]
    }
   ],
   "source": [
    "# URL da API\n",
    "url= f'https://sokker.org/xml/players-{club_id}.xml'\n",
    "\n",
    "# Pegando os dados dos atletas\n",
    "df_players= pega_dados(url, sessao, search= 'player')\n",
    "\n",
    "# Inserindo a data de hoje que será importante para acompanharmos suas evoluções\n",
    "df_players= df_players.assign(date_extracted= agora)\n",
    "\n",
    "# Soma de valores nulos ou duplicados\n",
    "nulos= df_players.isnull().sum().sum()\n",
    "duplicados=  df_players.duplicated().sum()\n",
    "\n",
    "\n",
    "if (nulos > 0) or (duplicados > 0):\n",
    "    print('Há valores nulos ou duplicados. Confira os dados e tente novamente.')\n",
    "    \n",
    "else:\n",
    "    print('Não há valores nulos ou duplicados. Inserindo dados na base de dados \"dados.sokker.db\"...')\n",
    "    \n",
    "    db= conecta_ao_db('dados_sokker.db')\n",
    "    curs= db.cursor()\n",
    "    \n",
    "    df_players.to_sql('players', con=db, if_exists='append', index= False) \n",
    "    print('Dados extraídos com sucesso!')"
   ]
  },
  {
   "cell_type": "code",
   "execution_count": 5,
   "metadata": {},
   "outputs": [
    {
     "ename": "NameError",
     "evalue": "name 'db' is not defined",
     "output_type": "error",
     "traceback": [
      "\u001b[0;31m---------------------------------------------------------------------------\u001b[0m",
      "\u001b[0;31mNameError\u001b[0m                                 Traceback (most recent call last)",
      "\u001b[0;32m<ipython-input-5-d3fa7e71df88>\u001b[0m in \u001b[0;36m<module>\u001b[0;34m\u001b[0m\n\u001b[0;32m----> 1\u001b[0;31m \u001b[0mdf\u001b[0m \u001b[0;34m=\u001b[0m \u001b[0mpd\u001b[0m\u001b[0;34m.\u001b[0m\u001b[0mread_sql_query\u001b[0m\u001b[0;34m(\u001b[0m\u001b[0;34m\"SELECT * FROM players\"\u001b[0m\u001b[0;34m,\u001b[0m \u001b[0mdb\u001b[0m\u001b[0;34m)\u001b[0m\u001b[0;34m\u001b[0m\u001b[0;34m\u001b[0m\u001b[0m\n\u001b[0m",
      "\u001b[0;31mNameError\u001b[0m: name 'db' is not defined"
     ]
    }
   ],
   "source": [
    "df = pd.read_sql_query(\"SELECT * FROM players\", db)"
   ]
  },
  {
   "cell_type": "code",
   "execution_count": null,
   "metadata": {},
   "outputs": [],
   "source": [
    "df"
   ]
  },
  {
   "cell_type": "code",
   "execution_count": null,
   "metadata": {},
   "outputs": [],
   "source": [
    "len(df)"
   ]
  },
  {
   "cell_type": "markdown",
   "metadata": {},
   "source": [
    "## "
   ]
  },
  {
   "cell_type": "code",
   "execution_count": null,
   "metadata": {},
   "outputs": [],
   "source": [
    "# Salvando alterações\n",
    "db.commit()\n",
    "\n",
    "# Fechando conexão com a base de dados\n",
    "db.close()"
   ]
  }
 ],
 "metadata": {
  "kernelspec": {
   "display_name": "Python 3",
   "language": "python",
   "name": "python3"
  },
  "language_info": {
   "codemirror_mode": {
    "name": "ipython",
    "version": 3
   },
   "file_extension": ".py",
   "mimetype": "text/x-python",
   "name": "python",
   "nbconvert_exporter": "python",
   "pygments_lexer": "ipython3",
   "version": "3.8.3"
  }
 },
 "nbformat": 4,
 "nbformat_minor": 4
}
